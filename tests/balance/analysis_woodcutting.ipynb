{
 "cells": [
  {
   "cell_type": "code",
   "execution_count": 1,
   "id": "64dad269-51ba-42bd-a31e-0934ad4b920e",
   "metadata": {},
   "outputs": [],
   "source": [
    "import numpy as np\n",
    "import matplotlib.pyplot as plt\n",
    "from matplotlib.ticker import MultipleLocator\n",
    "# from ipywidgets import interact, IntSlider, FloatSlider, VBox, HBox, Output\n",
    "# from IPython.display import display\n",
    "from ipywidgets import interactive, IntSlider\n",
    "\n",
    "from Pydle.util.ticks import Ticks\n",
    "from Pydle.lib.skilling.woodcutting import LOGS, AXES"
   ]
  },
  {
   "cell_type": "code",
   "execution_count": 2,
   "id": "17622c74-c9ed-4365-bfa4-61e66ac492a9",
   "metadata": {},
   "outputs": [],
   "source": [
    "def get_XP_rate(probability, XP, ticks_per_gather):\n",
    "    n_ticks = 3600. / Ticks()\n",
    "    n_attempts = int(n_ticks / ticks_per_gather)\n",
    "    n_success = int(n_attempts * probability)\n",
    "    total_xp = n_success * XP\n",
    "    return total_xp"
   ]
  },
  {
   "cell_type": "code",
   "execution_count": 3,
   "id": "8bde9259-11ea-431e-8990-dc85b8e2a0e2",
   "metadata": {},
   "outputs": [
    {
     "data": {
      "application/vnd.jupyter.widget-view+json": {
       "model_id": "d0addbeea3cb46c0bab68b83dac09325",
       "version_major": 2,
       "version_minor": 0
      },
      "text/plain": [
       "interactive(children=(IntSlider(value=0, continuous_update=False, description='Axe:', max=7), Output()), _dom_…"
      ]
     },
     "metadata": {},
     "output_type": "display_data"
    }
   ],
   "source": [
    "levels = np.arange(1, 127)\n",
    "\n",
    "axe_map = {i: p for i, p in enumerate(AXES)}\n",
    "\n",
    "def update_plot(i_axe):\n",
    "    fig, ax = plt.subplots(2, 1, dpi=125, figsize=(6.4, 6.), sharex=True)\n",
    "    \n",
    "    ax[0].xaxis.set_major_locator(MultipleLocator(10))\n",
    "    ax[0].xaxis.set_minor_locator(MultipleLocator(2))\n",
    "    \n",
    "    ax[1].yaxis.set_major_locator(MultipleLocator(20000))\n",
    "    ax[1].yaxis.set_minor_locator(MultipleLocator(2500))\n",
    "    \n",
    "    ax[1].set_xlabel('Level')\n",
    "    ax[0].set_ylabel('probability of success')\n",
    "    ax[1].set_ylabel('XP rate')\n",
    "    \n",
    "    ax[0].set_xlim(1, 126)\n",
    "    ax[0].set_ylim(0., 1.)\n",
    "    ax[1].set_ylim(0., 91000.)\n",
    "    \n",
    "    axe = AXES[axe_map[i_axe]]\n",
    "    for log in LOGS.values():\n",
    "        probs = np.array([log.prob_success(lvl, axe) for lvl in levels])\n",
    "        xp_rates = np.array([get_XP_rate(p, log.xp, axe.ticks_per_use) for p in probs])\n",
    "        print(log.gather_value)\n",
    "    \n",
    "        ax[0].plot(levels, probs, '-', ms=1.5, label=log.name)\n",
    "        ax[1].plot(levels, xp_rates, '-', ms=1.5)\n",
    "\n",
    "        ax[0].set_title(axe.name)\n",
    "\n",
    "        ax[0].legend()\n",
    "\n",
    "    plt.tight_layout()\n",
    "    plt.show()\n",
    "\n",
    "slider_axe = IntSlider(\n",
    "    value=0,\n",
    "    min=0,\n",
    "    max=len(AXES) - 1,\n",
    "    step=1,\n",
    "    description='Axe:',\n",
    "    continuous_update=False,\n",
    ")\n",
    "\n",
    "interactive_plot = interactive(update_plot, i_axe=slider_axe)\n",
    "display(interactive_plot)"
   ]
  },
  {
   "cell_type": "code",
   "execution_count": null,
   "id": "0b5eea18-f202-401c-938f-1dcdba0426e5",
   "metadata": {},
   "outputs": [],
   "source": []
  }
 ],
 "metadata": {
  "kernelspec": {
   "display_name": "Python 3 (ipykernel)",
   "language": "python",
   "name": "python3"
  },
  "language_info": {
   "codemirror_mode": {
    "name": "ipython",
    "version": 3
   },
   "file_extension": ".py",
   "mimetype": "text/x-python",
   "name": "python",
   "nbconvert_exporter": "python",
   "pygments_lexer": "ipython3",
   "version": "3.13.5"
  }
 },
 "nbformat": 4,
 "nbformat_minor": 5
}
